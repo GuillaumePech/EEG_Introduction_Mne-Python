{
 "cells": [
  {
   "cell_type": "code",
   "execution_count": 1,
   "metadata": {},
   "outputs": [],
   "source": [
    "# Import necessary libraries\n",
    "import mne\n"
   ]
  },
  {
   "cell_type": "code",
   "execution_count": 14,
   "metadata": {},
   "outputs": [
    {
     "name": "stdout",
     "output_type": "stream",
     "text": [
      "Extracting EDF parameters from C:\\Users\\mfbpe\\Desktop\\DATA\\2023_Eva_Freedom\\raw\\Pa1.bdf...\n",
      "BDF file detected\n",
      "Setting channel info structure...\n",
      "Creating raw.info structure...\n"
     ]
    },
    {
     "data": {
      "text/html": [
       "<details open>\n",
       "    <summary><strong>General</strong></summary>\n",
       "    <table class=\"table table-hover table-striped table-sm table-responsive small\">\n",
       "        <tr>\n",
       "            <th>Measurement date</th>\n",
       "            \n",
       "            <td>March 25, 2024  09:22:09 GMT</td>\n",
       "            \n",
       "        </tr>\n",
       "        <tr>\n",
       "            <th>Experimenter</th>\n",
       "            \n",
       "            <td>Unknown</td>\n",
       "            \n",
       "        </tr>\n",
       "        <tr>\n",
       "            <th>Participant</th>\n",
       "            \n",
       "            \n",
       "            <td></td>\n",
       "            \n",
       "            \n",
       "        </tr>\n",
       "    </table>\n",
       "    </details>\n",
       "    <details open>\n",
       "        <summary><strong>Channels</strong></summary>\n",
       "        <table class=\"table table-hover table-striped table-sm table-responsive small\">\n",
       "            <tr>\n",
       "                <th>Digitized points</th>\n",
       "                \n",
       "                <td>Not available</td>\n",
       "                \n",
       "            </tr>\n",
       "            <tr>\n",
       "                <th>Good channels</th>\n",
       "                <td>64 EEG, 1 Stimulus</td>\n",
       "            </tr>\n",
       "            <tr>\n",
       "                <th>Bad channels</th>\n",
       "                <td>None</td>\n",
       "            </tr>\n",
       "            <tr>\n",
       "                <th>EOG channels</th>\n",
       "                <td>Not available</td>\n",
       "            </tr>\n",
       "            <tr>\n",
       "                <th>ECG channels</th>\n",
       "                <td>Not available</td>\n",
       "            </tr>\n",
       "        </table>\n",
       "        </details>\n",
       "        <details open>\n",
       "            <summary><strong>Data</strong></summary>\n",
       "            <table class=\"table table-hover table-striped table-sm table-responsive small\">\n",
       "                \n",
       "                <tr>\n",
       "                    <th>Sampling frequency</th>\n",
       "                    <td>2048.00 Hz</td>\n",
       "                </tr>\n",
       "                \n",
       "                \n",
       "                <tr>\n",
       "                    <th>Highpass</th>\n",
       "                    <td>0.00 Hz</td>\n",
       "                </tr>\n",
       "                \n",
       "                \n",
       "                <tr>\n",
       "                    <th>Lowpass</th>\n",
       "                    <td>417.00 Hz</td>\n",
       "                </tr>\n",
       "                \n",
       "                \n",
       "                \n",
       "                <tr>\n",
       "                    <th>Filenames</th>\n",
       "                    <td>Pa1.bdf</td>\n",
       "                </tr>\n",
       "                \n",
       "                \n",
       "                <tr>\n",
       "                    <th>Duration</th>\n",
       "                    <td>00:40:30 (HH:MM:SS)</td>\n",
       "                </tr>\n",
       "                \n",
       "            </table>\n",
       "            </details>"
      ],
      "text/plain": [
       "<RawEDF | Pa1.bdf, 65 x 4976640 (2430.0 s), ~66 kB, data not loaded>"
      ]
     },
     "execution_count": 14,
     "metadata": {},
     "output_type": "execute_result"
    }
   ],
   "source": [
    "raw = mne.io.read_raw_bdf(\"C:/Users/mfbpe/Desktop/DATA/2023_Eva_Freedom/raw\\\\Pa1.bdf\")\n",
    "raw"
   ]
  },
  {
   "cell_type": "code",
   "execution_count": 11,
   "metadata": {},
   "outputs": [
    {
     "data": {
      "text/plain": [
       "['Fp1',\n",
       " 'AF7',\n",
       " 'AF3',\n",
       " 'F1',\n",
       " 'F3',\n",
       " 'F5',\n",
       " 'F7',\n",
       " 'FT7',\n",
       " 'FC5',\n",
       " 'FC3',\n",
       " 'FC1',\n",
       " 'C1',\n",
       " 'C3',\n",
       " 'C5',\n",
       " 'T7',\n",
       " 'TP7',\n",
       " 'CP5',\n",
       " 'CP3',\n",
       " 'CP1',\n",
       " 'P1',\n",
       " 'P3',\n",
       " 'P5',\n",
       " 'P7',\n",
       " 'P9',\n",
       " 'PO7',\n",
       " 'PO3',\n",
       " 'O1',\n",
       " 'Iz',\n",
       " 'Oz',\n",
       " 'POz',\n",
       " 'Pz',\n",
       " 'CPz',\n",
       " 'Fpz',\n",
       " 'Fp2',\n",
       " 'AF8',\n",
       " 'AF4',\n",
       " 'AFz',\n",
       " 'Fz',\n",
       " 'F2',\n",
       " 'F4',\n",
       " 'F6',\n",
       " 'F8',\n",
       " 'FT8',\n",
       " 'FC6',\n",
       " 'FC4',\n",
       " 'FC2',\n",
       " 'FCz',\n",
       " 'Cz',\n",
       " 'C2',\n",
       " 'C4',\n",
       " 'C6',\n",
       " 'T8',\n",
       " 'TP8',\n",
       " 'CP6',\n",
       " 'CP4',\n",
       " 'CP2',\n",
       " 'P2',\n",
       " 'P4',\n",
       " 'P6',\n",
       " 'P8',\n",
       " 'P10',\n",
       " 'PO8',\n",
       " 'PO4',\n",
       " 'O2',\n",
       " 'EXG1',\n",
       " 'EXG2',\n",
       " 'EXG3',\n",
       " 'EXG4',\n",
       " 'EXG5',\n",
       " 'EXG6',\n",
       " 'EXG7',\n",
       " 'EXG8',\n",
       " 'Status']"
      ]
     },
     "execution_count": 11,
     "metadata": {},
     "output_type": "execute_result"
    }
   ],
   "source": [
    "raw.info[\"ch_names\"]"
   ]
  },
  {
   "cell_type": "code",
   "execution_count": 12,
   "metadata": {},
   "outputs": [
    {
     "name": "stdout",
     "output_type": "stream",
     "text": [
      "Trigger channel Status has a non-zero initial value of {initial_value} (consider using initial_event=True to detect this event)\n",
      "829 events found on stim channel Status\n",
      "Event IDs: [    1     2     3     4    17    18    19    20    33    34    35    36\n",
      " 65789]\n"
     ]
    },
    {
     "data": {
      "text/plain": [
       "array([[   1276,   65536,   65789],\n",
       "       [  44422,       0,       3],\n",
       "       [  61965,       0,      19],\n",
       "       ...,\n",
       "       [4953010,       0,       4],\n",
       "       [4956084,       0,      20],\n",
       "       [4957117,       0,      36]], dtype=int64)"
      ]
     },
     "execution_count": 12,
     "metadata": {},
     "output_type": "execute_result"
    }
   ],
   "source": [
    "events= mne.find_events(raw, shortest_event=1)\n",
    "print(events)"
   ]
  },
  {
   "cell_type": "code",
   "execution_count": 9,
   "metadata": {},
   "outputs": [
    {
     "data": {
      "image/png": "[encoded data removed]",
      "text/plain": [
       "<Figure size 640x480 with 1 Axes>"
      ]
     },
     "execution_count": 9,
     "metadata": {},
     "output_type": "execute_result"
    }
   ],
   "source": [
    "%matplotlib qt\n",
    "mne.viz.plot_events(events) "
   ]
  },
  {
   "cell_type": "code",
   "execution_count": 11,
   "metadata": {},
   "outputs": [
    {
     "data": {
      "text/plain": [
       "array([[-2.63786544e-02, -2.63843419e-02, -2.63824981e-02, ...,\n",
       "        -1.90697304e-02, -1.90728866e-02, -1.90848241e-02],\n",
       "       [-2.92639303e-02, -2.92712428e-02, -2.92729303e-02, ...,\n",
       "        -1.66962973e-02, -1.66910785e-02, -1.67003910e-02],\n",
       "       [-2.44369392e-02, -2.44490642e-02, -2.44515017e-02, ...,\n",
       "        -1.78945138e-02, -1.78935138e-02, -1.79028263e-02],\n",
       "       ...,\n",
       "       [-6.13759804e-03, -6.14422302e-03, -6.14091053e-03, ...,\n",
       "        -3.93472711e-03, -3.93747710e-03, -3.94500834e-03],\n",
       "       [-1.22188368e-02, -1.22243680e-02, -1.22222743e-02, ...,\n",
       "        -1.32909286e-02, -1.32981786e-02, -1.33100848e-02],\n",
       "       [ 6.55360000e+04,  6.55360000e+04,  6.55360000e+04, ...,\n",
       "         0.00000000e+00,  0.00000000e+00,  0.00000000e+00]])"
      ]
     },
     "execution_count": 11,
     "metadata": {},
     "output_type": "execute_result"
    }
   ],
   "source": [
    "# check that there is data also !\n",
    "raw.get_data()"
   ]
  }
 ],
 "metadata": {
  "kernelspec": {
   "display_name": "eeg",
   "language": "python",
   "name": "python3"
  },
  "language_info": {
   "codemirror_mode": {
    "name": "ipython",
    "version": 3
   },
   "file_extension": ".py",
   "mimetype": "text/x-python",
   "name": "python",
   "nbconvert_exporter": "python",
   "pygments_lexer": "ipython3",
   "version": "3.10.13"
  }
 },
 "nbformat": 4,
 "nbformat_minor": 2
}

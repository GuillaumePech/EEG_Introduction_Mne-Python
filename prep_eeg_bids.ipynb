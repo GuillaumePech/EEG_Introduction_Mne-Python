{
 "cells": [
  {
   "cell_type": "code",
   "execution_count": null,
   "metadata": {},
   "outputs": [],
   "source": [
    "# Import necessary libraries\n",
    "import os, mne, re\n",
    "from mne.channels import make_standard_montage\n",
    "from glob import glob\n",
    "from mne_bids import BIDSPath, write_raw_bids\n",
    "\n",
    "# Set the source directory path for the raw data\n",
    "root_source = 'C:/Users/mfbpe/Desktop/DATA/2023_Eva_Freedom/raw'\n",
    "\n",
    "# Set the folder for recreate the data in bids format downsampled \n",
    "root_bids = 'C:/Users/mfbpe/Desktop/DATA/2023_Eva_Freedom/bids/'\n",
    "\n",
    "# Get a list of all file paths with .bdf extension in the source directory\n",
    "all_files_path = sorted(glob(f'{root_source}/*.bdf'), key=len)\n",
    "\n",
    "# Loop over each file path in the list of all_files_path\n",
    "for part in all_files_path:\n",
    "    # Extract the participant number from the file path\n",
    "    n_part = re.split('Pa|.bdf', part)[1]  # e.g., '001'\n",
    "    # Read the raw data from the BDF file\n",
    "    raw = mne.io.read_raw_bdf(part)\n",
    "    \n",
    "    bidspath = BIDSPath(subject=n_part, task='constraint', datatype='eeg', root=root_bids)\n",
    "    \n",
    "    # Load the data into memory\n",
    "    raw.load_data()\n",
    "\n",
    "    events= mne.find_events(raw, shortest_event=1)\n",
    "    try :\n",
    "        raw.crop(((events[1,0]/2048))-3, (events[-1,0]/2048)+3)\n",
    "    except : \n",
    "        pass\n",
    "\n",
    "    events= mne.find_events(raw, shortest_event=1)\n",
    "    # # Resample the data by downsampling to 1/4th of the original sample rate\n",
    "    raw, events = raw.resample(sfreq=raw.info['sfreq'] / 4, events= events)\n",
    "    \n",
    "    event_id = { 'vizualisation/free':1,'vizualisation/recommended':2,'vizualisation/semi-instructed':3,'vizualisation/instructed':4,\n",
    "    'action/free':17,'action/recommended':18,'action/semi-instructed':19,'action/instructed':20,\n",
    "    'outcome/free':33,'outcome/recommended':34,'outcome/semi-instructed':35,'outcome/instructed':36\n",
    "    }# Define event dictionary\n",
    "\n",
    "    events = events[np.isin(events[:, 2], list(event_id.values()))]\n",
    "    raw.add_events(events,replace=True)\n",
    "\n",
    "    # Set the 32 system BioSemi channel positions on the data\n",
    "    montage = make_standard_montage('biosemi64')\n",
    "    new_names = dict(zip(raw.ch_names, montage.ch_names))\n",
    "    raw.rename_channels(new_names)\n",
    "    raw.set_montage(montage)\n",
    "\n",
    "    write_raw_bids(raw, bidspath, events=events, event_id=event_id, format='BrainVision', allow_preload=True,overwrite=True)\n"
   ]
  }
 ],
 "metadata": {
  "kernelspec": {
   "display_name": "eeg",
   "language": "python",
   "name": "python3"
  },
  "language_info": {
   "codemirror_mode": {
    "name": "ipython",
    "version": 3
   },
   "file_extension": ".py",
   "mimetype": "text/x-python",
   "name": "python",
   "nbconvert_exporter": "python",
   "pygments_lexer": "ipython3",
   "version": "3.10.13"
  }
 },
 "nbformat": 4,
 "nbformat_minor": 2
}
